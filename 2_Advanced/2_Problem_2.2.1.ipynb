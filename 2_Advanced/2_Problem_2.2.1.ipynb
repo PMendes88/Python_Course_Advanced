{
 "cells": [
  {
   "cell_type": "markdown",
   "id": "bfb9cd59",
   "metadata": {},
   "source": [
    "# Remove Rows with Missing Values (2.2.1) - Problem\n",
    "\n",
    "Problem Statement: Remove rows where the salary_year_avg column has missing values. Display the number of rows before and after removing."
   ]
  },
  {
   "cell_type": "code",
   "execution_count": 1,
   "id": "8bfd83e1",
   "metadata": {},
   "outputs": [
    {
     "name": "stderr",
     "output_type": "stream",
     "text": [
      "c:\\Users\\Pedro\\anaconda3\\envs\\python_course\\Lib\\site-packages\\tqdm\\auto.py:21: TqdmWarning: IProgress not found. Please update jupyter and ipywidgets. See https://ipywidgets.readthedocs.io/en/stable/user_install.html\n",
      "  from .autonotebook import tqdm as notebook_tqdm\n"
     ]
    }
   ],
   "source": [
    "# Importing Libraries\n",
    "import pandas as pd\n",
    "from datasets import load_dataset\n",
    "import matplotlib.pyplot as plt\n",
    "\n",
    "# Loading Datadataset \n",
    "dataset = load_dataset('lukebarousse/data_jobs')\n",
    "df = dataset['train'].to_pandas()\n",
    "\n",
    "# Data Cleanup\n",
    "df['job_posted_date'] = pd.to_datetime(df['job_posted_date'])"
   ]
  },
  {
   "cell_type": "code",
   "execution_count": 4,
   "id": "116b3d14",
   "metadata": {},
   "outputs": [
    {
     "name": "stdout",
     "output_type": "stream",
     "text": [
      "Length of original df: 785741\n",
      "Length of drop duplicates df: 22003\n",
      "Rows dropped: 763738\n"
     ]
    }
   ],
   "source": [
    "df_filled = df\n",
    "df_unique = df_filled\n",
    "df_unique = df_unique.dropna(subset=['salary_year_avg'])\n",
    "\n",
    "df_unique\n",
    "\n",
    "print('Length of original df:', len(df_filled))\n",
    "print('Length of drop duplicates df:', len(df_unique))\n",
    "print('Rows dropped:', len(df_filled)-len(df_unique))"
   ]
  },
  {
   "cell_type": "code",
   "execution_count": null,
   "id": "cf52245a",
   "metadata": {},
   "outputs": [],
   "source": []
  }
 ],
 "metadata": {
  "kernelspec": {
   "display_name": "python_course",
   "language": "python",
   "name": "python3"
  },
  "language_info": {
   "codemirror_mode": {
    "name": "ipython",
    "version": 3
   },
   "file_extension": ".py",
   "mimetype": "text/x-python",
   "name": "python",
   "nbconvert_exporter": "python",
   "pygments_lexer": "ipython3",
   "version": "3.11.11"
  }
 },
 "nbformat": 4,
 "nbformat_minor": 5
}
