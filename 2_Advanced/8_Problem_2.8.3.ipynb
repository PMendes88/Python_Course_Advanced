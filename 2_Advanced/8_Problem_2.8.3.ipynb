{
 "cells": [
  {
   "cell_type": "markdown",
   "id": "7afbcc03",
   "metadata": {},
   "source": [
    "# Export to Excel (2.9.3) - Problem\n",
    "\n",
    "Problem Statement:\n",
    "Filter the DataFrame to include only job postings with 'New York, NY' in the job_location column.\n",
    "Export the filtered DataFrame to an Excel file named new_york_jobs.xlsx without including the index.\n",
    "Display the first 5 rows of the filtered DataFrame to confirm the export."
   ]
  },
  {
   "cell_type": "code",
   "execution_count": 1,
   "id": "2baf50aa",
   "metadata": {},
   "outputs": [
    {
     "name": "stderr",
     "output_type": "stream",
     "text": [
      "c:\\Users\\Pedro\\anaconda3\\envs\\python_course\\Lib\\site-packages\\tqdm\\auto.py:21: TqdmWarning: IProgress not found. Please update jupyter and ipywidgets. See https://ipywidgets.readthedocs.io/en/stable/user_install.html\n",
      "  from .autonotebook import tqdm as notebook_tqdm\n"
     ]
    }
   ],
   "source": [
    "# Importing Libraries\n",
    "import pandas as pd\n",
    "from datasets import load_dataset\n",
    "import matplotlib.pyplot as plt\n",
    "\n",
    "# Loading Datadataset \n",
    "dataset = load_dataset('lukebarousse/data_jobs')\n",
    "df = dataset['train'].to_pandas()\n",
    "\n",
    "# Data Cleanup\n",
    "df['job_posted_date'] = pd.to_datetime(df['job_posted_date'])"
   ]
  },
  {
   "cell_type": "code",
   "execution_count": 7,
   "id": "8a194250",
   "metadata": {},
   "outputs": [],
   "source": [
    "all_new_york_jobs = df[df['job_location'] == 'New York, NY']\n",
    "\n",
    "ny_jobs = all_new_york_jobs.head()\n",
    "\n",
    "ny_jobs.to_excel('ny_jobs.xlsx', index=False)\n",
    "\n"
   ]
  },
  {
   "cell_type": "markdown",
   "id": "0b29529a",
   "metadata": {},
   "source": []
  }
 ],
 "metadata": {
  "kernelspec": {
   "display_name": "python_course",
   "language": "python",
   "name": "python3"
  },
  "language_info": {
   "codemirror_mode": {
    "name": "ipython",
    "version": 3
   },
   "file_extension": ".py",
   "mimetype": "text/x-python",
   "name": "python",
   "nbconvert_exporter": "python",
   "pygments_lexer": "ipython3",
   "version": "3.11.11"
  }
 },
 "nbformat": 4,
 "nbformat_minor": 5
}
