{
 "cells": [
  {
   "cell_type": "markdown",
   "id": "1cf3bea2",
   "metadata": {},
   "source": [
    "# Filter and Export to CSV (2.9.2) - Problem\n",
    "\n",
    "Problem Statement:\n",
    "Filter the DataFrame to include only job postings with 'Data Scientist' in the job_title_short column.\n",
    "Export the filtered DataFrame to a CSV file named data_scientist_jobs.csv without including the index.\n",
    "Inspect that the CSV has been exported with the correct filtered data."
   ]
  },
  {
   "cell_type": "code",
   "execution_count": 1,
   "id": "2a9454e3",
   "metadata": {},
   "outputs": [
    {
     "name": "stderr",
     "output_type": "stream",
     "text": [
      "c:\\Users\\Pedro\\anaconda3\\envs\\python_course\\Lib\\site-packages\\tqdm\\auto.py:21: TqdmWarning: IProgress not found. Please update jupyter and ipywidgets. See https://ipywidgets.readthedocs.io/en/stable/user_install.html\n",
      "  from .autonotebook import tqdm as notebook_tqdm\n"
     ]
    }
   ],
   "source": [
    "# Importing Libraries\n",
    "import pandas as pd\n",
    "from datasets import load_dataset\n",
    "import matplotlib.pyplot as plt\n",
    "\n",
    "# Loading Datadataset \n",
    "dataset = load_dataset('lukebarousse/data_jobs')\n",
    "df = dataset['train'].to_pandas()\n",
    "\n",
    "# Data Cleanup\n",
    "df['job_posted_date'] = pd.to_datetime(df['job_posted_date'])"
   ]
  },
  {
   "cell_type": "code",
   "execution_count": 5,
   "id": "37bb5c1d",
   "metadata": {},
   "outputs": [],
   "source": [
    "data_scientist_jobs = df[df['job_title_short'] == 'Data Scientist']\n",
    "\n",
    "data_scientist_jobs.to_csv('data_scientist_jobs.csv', index=False)"
   ]
  },
  {
   "cell_type": "code",
   "execution_count": null,
   "id": "ba917126",
   "metadata": {},
   "outputs": [],
   "source": []
  }
 ],
 "metadata": {
  "kernelspec": {
   "display_name": "python_course",
   "language": "python",
   "name": "python3"
  },
  "language_info": {
   "codemirror_mode": {
    "name": "ipython",
    "version": 3
   },
   "file_extension": ".py",
   "mimetype": "text/x-python",
   "name": "python",
   "nbconvert_exporter": "python",
   "pygments_lexer": "ipython3",
   "version": "3.11.11"
  }
 },
 "nbformat": 4,
 "nbformat_minor": 5
}
