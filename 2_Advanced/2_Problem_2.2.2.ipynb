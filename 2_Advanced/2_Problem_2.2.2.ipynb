{
 "cells": [
  {
   "cell_type": "markdown",
   "id": "bfb9cd59",
   "metadata": {},
   "source": [
    "# Remove Duplicate Rows (2.2.2) - Problem\n",
    "\n",
    "Problem Statement: Remove duplicate rows from the DataFrame based on the job_location column. Display the number of rows before and after removing duplicates."
   ]
  },
  {
   "cell_type": "code",
   "execution_count": 7,
   "id": "8bfd83e1",
   "metadata": {},
   "outputs": [],
   "source": [
    "# Importing Libraries\n",
    "import pandas as pd\n",
    "from datasets import load_dataset\n",
    "import matplotlib.pyplot as plt\n",
    "\n",
    "# Loading Datadataset \n",
    "dataset = load_dataset('lukebarousse/data_jobs')\n",
    "df = dataset['train'].to_pandas()\n",
    "\n",
    "# Data Cleanup\n",
    "df['job_posted_date'] = pd.to_datetime(df['job_posted_date'])"
   ]
  },
  {
   "cell_type": "code",
   "execution_count": 8,
   "id": "cf52245a",
   "metadata": {},
   "outputs": [
    {
     "name": "stdout",
     "output_type": "stream",
     "text": [
      "Length of original df: 785741\n",
      "Length of drop duplicates df: 17218\n",
      "Rows dropped: 768523\n"
     ]
    }
   ],
   "source": [
    "df_filled = df\n",
    "df_clean = df_filled.drop_duplicates(['job_location'])\n",
    "\n",
    "\n",
    "print('Length of original df:', len(df_filled))\n",
    "print('Length of drop duplicates df:', len(df_clean))\n",
    "print('Rows dropped:', len(df_filled)-len(df_clean))\n"
   ]
  },
  {
   "cell_type": "code",
   "execution_count": null,
   "id": "37f73320",
   "metadata": {},
   "outputs": [],
   "source": []
  }
 ],
 "metadata": {
  "kernelspec": {
   "display_name": "python_course",
   "language": "python",
   "name": "python3"
  },
  "language_info": {
   "codemirror_mode": {
    "name": "ipython",
    "version": 3
   },
   "file_extension": ".py",
   "mimetype": "text/x-python",
   "name": "python",
   "nbconvert_exporter": "python",
   "pygments_lexer": "ipython3",
   "version": "3.11.11"
  }
 },
 "nbformat": 4,
 "nbformat_minor": 5
}
