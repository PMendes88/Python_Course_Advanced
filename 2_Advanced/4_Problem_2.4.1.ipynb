{
 "cells": [
  {
   "cell_type": "markdown",
   "id": "f2f8320f",
   "metadata": {},
   "source": [
    "# Count Job Postings by Title and Country (2.4.1) - Problem\n",
    "\n",
    "Problem Statement: Create a pivot table to count the number of job postings for each job_title_short and job_country. Display the first 10 rows of the resulting pivot table."
   ]
  },
  {
   "cell_type": "code",
   "execution_count": 1,
   "id": "17ea388a",
   "metadata": {},
   "outputs": [
    {
     "name": "stderr",
     "output_type": "stream",
     "text": [
      "c:\\Users\\Pedro\\anaconda3\\envs\\python_course\\Lib\\site-packages\\tqdm\\auto.py:21: TqdmWarning: IProgress not found. Please update jupyter and ipywidgets. See https://ipywidgets.readthedocs.io/en/stable/user_install.html\n",
      "  from .autonotebook import tqdm as notebook_tqdm\n"
     ]
    }
   ],
   "source": [
    "# Importing Libraries\n",
    "import pandas as pd\n",
    "from datasets import load_dataset\n",
    "import matplotlib.pyplot as plt\n",
    "\n",
    "# Loading Datadataset \n",
    "dataset = load_dataset('lukebarousse/data_jobs')\n",
    "df = dataset['train'].to_pandas()\n",
    "\n",
    "# Data Cleanup\n",
    "df['job_posted_date'] = pd.to_datetime(df['job_posted_date'])"
   ]
  },
  {
   "cell_type": "code",
   "execution_count": 9,
   "id": "6be4b1fa",
   "metadata": {},
   "outputs": [
    {
     "data": {
      "text/plain": [
       "job_title_short   job_country\n",
       "Business Analyst  Afghanistan      4\n",
       "                  Albania         11\n",
       "                  Algeria         21\n",
       "                  Angola           1\n",
       "                  Argentina      453\n",
       "                  Armenia         29\n",
       "                  Australia      928\n",
       "                  Austria        738\n",
       "                  Azerbaijan      16\n",
       "                  Bahamas          5\n",
       "dtype: int64"
      ]
     },
     "execution_count": 9,
     "metadata": {},
     "output_type": "execute_result"
    }
   ],
   "source": [
    "from numpy import size\n",
    "from pandas import pivot\n",
    "\n",
    "\n",
    "pivot_table = df.pivot_table(index=['job_title_short', 'job_country'], aggfunc='size').head(10)\n",
    "\n",
    "pivot_table"
   ]
  },
  {
   "cell_type": "code",
   "execution_count": null,
   "id": "c335e5ad",
   "metadata": {},
   "outputs": [],
   "source": []
  }
 ],
 "metadata": {
  "kernelspec": {
   "display_name": "python_course",
   "language": "python",
   "name": "python3"
  },
  "language_info": {
   "codemirror_mode": {
    "name": "ipython",
    "version": 3
   },
   "file_extension": ".py",
   "mimetype": "text/x-python",
   "name": "python",
   "nbconvert_exporter": "python",
   "pygments_lexer": "ipython3",
   "version": "3.11.11"
  }
 },
 "nbformat": 4,
 "nbformat_minor": 5
}
