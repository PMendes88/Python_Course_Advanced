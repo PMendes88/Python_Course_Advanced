{
 "cells": [
  {
   "cell_type": "markdown",
   "id": "371ffe28",
   "metadata": {},
   "source": [
    "# Filter by Date (2.1.4) - Problem\n",
    "\n",
    "Problem Statement: Select and display the job_title, job_location, and job_posted_date columns for rows where the job_posted_date is after '2023-05-01' using the loc method."
   ]
  },
  {
   "cell_type": "code",
   "execution_count": 1,
   "id": "0c5531c1",
   "metadata": {},
   "outputs": [
    {
     "name": "stderr",
     "output_type": "stream",
     "text": [
      "c:\\Users\\Pedro\\anaconda3\\envs\\python_course\\Lib\\site-packages\\tqdm\\auto.py:21: TqdmWarning: IProgress not found. Please update jupyter and ipywidgets. See https://ipywidgets.readthedocs.io/en/stable/user_install.html\n",
      "  from .autonotebook import tqdm as notebook_tqdm\n"
     ]
    }
   ],
   "source": [
    "# Importing Libraries\n",
    "import pandas as pd\n",
    "from datasets import load_dataset\n",
    "import matplotlib.pyplot as plt\n",
    "\n",
    "# Loading Datadataset \n",
    "dataset = load_dataset('lukebarousse/data_jobs')\n",
    "df = dataset['train'].to_pandas()\n",
    "\n",
    "# Data Cleanup\n",
    "df['job_posted_date'] = pd.to_datetime(df['job_posted_date'])"
   ]
  },
  {
   "cell_type": "code",
   "execution_count": 27,
   "id": "524151a2",
   "metadata": {},
   "outputs": [
    {
     "name": "stdout",
     "output_type": "stream",
     "text": [
      "                                                job_title  \\\n",
      "0       Senior Clinical Data Engineer / Principal Clin...   \n",
      "2       Data Engineer/Scientist/Analyst, Mid or Senior...   \n",
      "3       LEAD ENGINEER - PRINCIPAL ANALYST - PRINCIPAL ...   \n",
      "4                                  Data Engineer- Sr Jobs   \n",
      "5                                       GCP Data Engineer   \n",
      "...                                                   ...   \n",
      "785694                                      Data Engineer   \n",
      "785696                          Senior Analytics Engineer   \n",
      "785698      Data Engineer, Gerencia Business Intelligence   \n",
      "785701      Data Engineer, Gerencia Business Intelligence   \n",
      "785706                               Junior Data Engineer   \n",
      "\n",
      "                     job_location     job_posted_date  \n",
      "0                   Watertown, CT 2023-06-16 13:44:15  \n",
      "2                 Berlin, Germany 2023-10-10 13:14:55  \n",
      "3                 San Antonio, TX 2023-07-04 13:01:41  \n",
      "4                  Washington, DC 2023-08-07 14:29:36  \n",
      "5                        Anywhere 2023-11-07 14:01:59  \n",
      "...                           ...                 ...  \n",
      "785694              Graz, Austria 2023-05-07 07:07:37  \n",
      "785696  Colombia, Huila, Colombia 2023-10-23 06:31:25  \n",
      "785698          Las Condes, Chile 2023-08-09 06:32:00  \n",
      "785701            Santiago, Chile 2023-08-09 06:31:57  \n",
      "785706                 Lima, Peru 2023-11-08 06:34:48  \n",
      "\n",
      "[502338 rows x 3 columns]\n"
     ]
    }
   ],
   "source": [
    "df_title_loc_date = df[df['job_posted_date'] >= pd.Timestamp('2023-5-1')]\n",
    "\n",
    "df_filter = df_title_loc_date.loc[:, ['job_title', 'job_location', 'job_posted_date']]\n",
    "\n",
    "print(df_filter)"
   ]
  },
  {
   "cell_type": "code",
   "execution_count": 25,
   "id": "d38ca4f2",
   "metadata": {},
   "outputs": [
    {
     "data": {
      "text/html": [
       "<div>\n",
       "<style scoped>\n",
       "    .dataframe tbody tr th:only-of-type {\n",
       "        vertical-align: middle;\n",
       "    }\n",
       "\n",
       "    .dataframe tbody tr th {\n",
       "        vertical-align: top;\n",
       "    }\n",
       "\n",
       "    .dataframe thead th {\n",
       "        text-align: right;\n",
       "    }\n",
       "</style>\n",
       "<table border=\"1\" class=\"dataframe\">\n",
       "  <thead>\n",
       "    <tr style=\"text-align: right;\">\n",
       "      <th></th>\n",
       "      <th>job_title</th>\n",
       "      <th>job_location</th>\n",
       "      <th>job_posted_date</th>\n",
       "    </tr>\n",
       "  </thead>\n",
       "  <tbody>\n",
       "    <tr>\n",
       "      <th>0</th>\n",
       "      <td>Senior Clinical Data Engineer / Principal Clin...</td>\n",
       "      <td>Watertown, CT</td>\n",
       "      <td>2023-06-16 13:44:15</td>\n",
       "    </tr>\n",
       "    <tr>\n",
       "      <th>2</th>\n",
       "      <td>Data Engineer/Scientist/Analyst, Mid or Senior...</td>\n",
       "      <td>Berlin, Germany</td>\n",
       "      <td>2023-10-10 13:14:55</td>\n",
       "    </tr>\n",
       "    <tr>\n",
       "      <th>3</th>\n",
       "      <td>LEAD ENGINEER - PRINCIPAL ANALYST - PRINCIPAL ...</td>\n",
       "      <td>San Antonio, TX</td>\n",
       "      <td>2023-07-04 13:01:41</td>\n",
       "    </tr>\n",
       "    <tr>\n",
       "      <th>4</th>\n",
       "      <td>Data Engineer- Sr Jobs</td>\n",
       "      <td>Washington, DC</td>\n",
       "      <td>2023-08-07 14:29:36</td>\n",
       "    </tr>\n",
       "    <tr>\n",
       "      <th>5</th>\n",
       "      <td>GCP Data Engineer</td>\n",
       "      <td>Anywhere</td>\n",
       "      <td>2023-11-07 14:01:59</td>\n",
       "    </tr>\n",
       "    <tr>\n",
       "      <th>...</th>\n",
       "      <td>...</td>\n",
       "      <td>...</td>\n",
       "      <td>...</td>\n",
       "    </tr>\n",
       "    <tr>\n",
       "      <th>785694</th>\n",
       "      <td>Data Engineer</td>\n",
       "      <td>Graz, Austria</td>\n",
       "      <td>2023-05-07 07:07:37</td>\n",
       "    </tr>\n",
       "    <tr>\n",
       "      <th>785696</th>\n",
       "      <td>Senior Analytics Engineer</td>\n",
       "      <td>Colombia, Huila, Colombia</td>\n",
       "      <td>2023-10-23 06:31:25</td>\n",
       "    </tr>\n",
       "    <tr>\n",
       "      <th>785698</th>\n",
       "      <td>Data Engineer, Gerencia Business Intelligence</td>\n",
       "      <td>Las Condes, Chile</td>\n",
       "      <td>2023-08-09 06:32:00</td>\n",
       "    </tr>\n",
       "    <tr>\n",
       "      <th>785701</th>\n",
       "      <td>Data Engineer, Gerencia Business Intelligence</td>\n",
       "      <td>Santiago, Chile</td>\n",
       "      <td>2023-08-09 06:31:57</td>\n",
       "    </tr>\n",
       "    <tr>\n",
       "      <th>785706</th>\n",
       "      <td>Junior Data Engineer</td>\n",
       "      <td>Lima, Peru</td>\n",
       "      <td>2023-11-08 06:34:48</td>\n",
       "    </tr>\n",
       "  </tbody>\n",
       "</table>\n",
       "<p>502338 rows × 3 columns</p>\n",
       "</div>"
      ],
      "text/plain": [
       "                                                job_title  \\\n",
       "0       Senior Clinical Data Engineer / Principal Clin...   \n",
       "2       Data Engineer/Scientist/Analyst, Mid or Senior...   \n",
       "3       LEAD ENGINEER - PRINCIPAL ANALYST - PRINCIPAL ...   \n",
       "4                                  Data Engineer- Sr Jobs   \n",
       "5                                       GCP Data Engineer   \n",
       "...                                                   ...   \n",
       "785694                                      Data Engineer   \n",
       "785696                          Senior Analytics Engineer   \n",
       "785698      Data Engineer, Gerencia Business Intelligence   \n",
       "785701      Data Engineer, Gerencia Business Intelligence   \n",
       "785706                               Junior Data Engineer   \n",
       "\n",
       "                     job_location     job_posted_date  \n",
       "0                   Watertown, CT 2023-06-16 13:44:15  \n",
       "2                 Berlin, Germany 2023-10-10 13:14:55  \n",
       "3                 San Antonio, TX 2023-07-04 13:01:41  \n",
       "4                  Washington, DC 2023-08-07 14:29:36  \n",
       "5                        Anywhere 2023-11-07 14:01:59  \n",
       "...                           ...                 ...  \n",
       "785694              Graz, Austria 2023-05-07 07:07:37  \n",
       "785696  Colombia, Huila, Colombia 2023-10-23 06:31:25  \n",
       "785698          Las Condes, Chile 2023-08-09 06:32:00  \n",
       "785701            Santiago, Chile 2023-08-09 06:31:57  \n",
       "785706                 Lima, Peru 2023-11-08 06:34:48  \n",
       "\n",
       "[502338 rows x 3 columns]"
      ]
     },
     "execution_count": 25,
     "metadata": {},
     "output_type": "execute_result"
    }
   ],
   "source": [
    "#Luke's solution\n",
    "\n",
    "df.loc[df['job_posted_date'] > '2023-05-01', ['job_title', 'job_location', 'job_posted_date']]\n"
   ]
  },
  {
   "cell_type": "code",
   "execution_count": null,
   "id": "ca5c1a38",
   "metadata": {},
   "outputs": [],
   "source": []
  }
 ],
 "metadata": {
  "kernelspec": {
   "display_name": "python_course",
   "language": "python",
   "name": "python3"
  },
  "language_info": {
   "codemirror_mode": {
    "name": "ipython",
    "version": 3
   },
   "file_extension": ".py",
   "mimetype": "text/x-python",
   "name": "python",
   "nbconvert_exporter": "python",
   "pygments_lexer": "ipython3",
   "version": "3.11.11"
  }
 },
 "nbformat": 4,
 "nbformat_minor": 5
}
